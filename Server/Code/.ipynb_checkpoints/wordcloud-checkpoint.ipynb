{
 "cells": [
  {
   "cell_type": "code",
   "execution_count": 40,
   "metadata": {},
   "outputs": [],
   "source": [
    "import json\n",
    "import pandas as pd\n",
    "import multiprocess as mp\n",
    "from collections import Counter\n",
    "from sqlalchemy import create_engine\n",
    "from nltk import word_tokenize\n",
    "from nltk.corpus import stopwords"
   ]
  },
  {
   "cell_type": "code",
   "execution_count": 41,
   "metadata": {},
   "outputs": [
    {
     "data": {
      "text/plain": [
       "Index(['text', 'cluster_id'], dtype='object')"
      ]
     },
     "execution_count": 41,
     "metadata": {},
     "output_type": "execute_result"
    }
   ],
   "source": [
    "query = 'SELECT article.text, article_cluster.cluster_id FROM article JOIN article_cluster ON article.id = article_cluster.article_id'\n",
    "engine = create_engine('mysql+mysqlconnector://user:u53r_mysql@db/article_clustering')\n",
    "cluster_text = pd.read_sql(query, engine)\n",
    "cluster_text.columns"
   ]
  },
  {
   "cell_type": "code",
   "execution_count": 42,
   "metadata": {},
   "outputs": [],
   "source": [
    "def vocab_gen(text):\n",
    "    return Counter([token for token in word_tokenize(text.lower()) if token not in stopwords_set and token.isalnum()])"
   ]
  },
  {
   "cell_type": "code",
   "execution_count": 45,
   "metadata": {},
   "outputs": [],
   "source": [
    "\n",
    "    stopwords_set = set(stopwords.words('english'))pool = mp.Pool()\n",
    "wordcloud = list()\n",
    "for cluster in cluster_text['cluster_id'].unique():\n",
    "    vocab = Counter()\n",
    "    article_text = cluster_text[cluster_text['cluster_id'] == cluster]['text'].to_list()\n",
    "    vocab_list = pool.map(vocab_gen, article_text)\n",
    "    for text_vocab in vocab_list:\n",
    "        vocab += text_vocab\n",
    "    wordcloud.append({'id': cluster, 'wordcloud': json.dumps(vocab.most_common(50))})"
   ]
  },
  {
   "cell_type": "code",
   "execution_count": 46,
   "metadata": {},
   "outputs": [
    {
     "data": {
      "text/html": [
       "<div>\n",
       "<style scoped>\n",
       "    .dataframe tbody tr th:only-of-type {\n",
       "        vertical-align: middle;\n",
       "    }\n",
       "\n",
       "    .dataframe tbody tr th {\n",
       "        vertical-align: top;\n",
       "    }\n",
       "\n",
       "    .dataframe thead th {\n",
       "        text-align: right;\n",
       "    }\n",
       "</style>\n",
       "<table border=\"1\" class=\"dataframe\">\n",
       "  <thead>\n",
       "    <tr style=\"text-align: right;\">\n",
       "      <th></th>\n",
       "      <th>id</th>\n",
       "      <th>wordcloud</th>\n",
       "    </tr>\n",
       "  </thead>\n",
       "  <tbody>\n",
       "    <tr>\n",
       "      <th>0</th>\n",
       "      <td>39</td>\n",
       "      <td>[[\"de\", 171], [\"la\", 106], [\"que\", 69], [\"en\",...</td>\n",
       "    </tr>\n",
       "    <tr>\n",
       "      <th>1</th>\n",
       "      <td>58</td>\n",
       "      <td>[[\"de\", 89], [\"cnbc\", 57], [\"la\", 44], [\"ceo\",...</td>\n",
       "    </tr>\n",
       "    <tr>\n",
       "      <th>2</th>\n",
       "      <td>61</td>\n",
       "      <td>[[\"de\", 52], [\"cnbc\", 38], [\"la\", 29], [\"en\", ...</td>\n",
       "    </tr>\n",
       "    <tr>\n",
       "      <th>3</th>\n",
       "      <td>60</td>\n",
       "      <td>[[\"de\", 67], [\"cnbc\", 47], [\"\\u03c4\\u03bf\\u03c...</td>\n",
       "    </tr>\n",
       "    <tr>\n",
       "      <th>4</th>\n",
       "      <td>55</td>\n",
       "      <td>[[\"\\u0641\\u064a\", 79], [\"de\", 61], [\"\\u0645\\u0...</td>\n",
       "    </tr>\n",
       "    <tr>\n",
       "      <th>...</th>\n",
       "      <td>...</td>\n",
       "      <td>...</td>\n",
       "    </tr>\n",
       "    <tr>\n",
       "      <th>95</th>\n",
       "      <td>35</td>\n",
       "      <td>[[\"\\u03c3\\u03c4\\u03b7\\u03bd\", 94], [\"\\u03ba\\u0...</td>\n",
       "    </tr>\n",
       "    <tr>\n",
       "      <th>96</th>\n",
       "      <td>97</td>\n",
       "      <td>[[\"black\", 46], [\"nfl\", 39], [\"quarterbacks\", ...</td>\n",
       "    </tr>\n",
       "    <tr>\n",
       "      <th>97</th>\n",
       "      <td>91</td>\n",
       "      <td>[[\"syrian\", 208], [\"civil\", 174], [\"war\", 173]...</td>\n",
       "    </tr>\n",
       "    <tr>\n",
       "      <th>98</th>\n",
       "      <td>76</td>\n",
       "      <td>[[\"de\", 154], [\"la\", 118], [\"que\", 93], [\"e\", ...</td>\n",
       "    </tr>\n",
       "    <tr>\n",
       "      <th>99</th>\n",
       "      <td>94</td>\n",
       "      <td>[[\"zoom\", 86], [\"yuan\", 71], [\"webex\", 44], [\"...</td>\n",
       "    </tr>\n",
       "  </tbody>\n",
       "</table>\n",
       "<p>100 rows × 2 columns</p>\n",
       "</div>"
      ],
      "text/plain": [
       "    id                                          wordcloud\n",
       "0   39  [[\"de\", 171], [\"la\", 106], [\"que\", 69], [\"en\",...\n",
       "1   58  [[\"de\", 89], [\"cnbc\", 57], [\"la\", 44], [\"ceo\",...\n",
       "2   61  [[\"de\", 52], [\"cnbc\", 38], [\"la\", 29], [\"en\", ...\n",
       "3   60  [[\"de\", 67], [\"cnbc\", 47], [\"\\u03c4\\u03bf\\u03c...\n",
       "4   55  [[\"\\u0641\\u064a\", 79], [\"de\", 61], [\"\\u0645\\u0...\n",
       "..  ..                                                ...\n",
       "95  35  [[\"\\u03c3\\u03c4\\u03b7\\u03bd\", 94], [\"\\u03ba\\u0...\n",
       "96  97  [[\"black\", 46], [\"nfl\", 39], [\"quarterbacks\", ...\n",
       "97  91  [[\"syrian\", 208], [\"civil\", 174], [\"war\", 173]...\n",
       "98  76  [[\"de\", 154], [\"la\", 118], [\"que\", 93], [\"e\", ...\n",
       "99  94  [[\"zoom\", 86], [\"yuan\", 71], [\"webex\", 44], [\"...\n",
       "\n",
       "[100 rows x 2 columns]"
      ]
     },
     "execution_count": 46,
     "metadata": {},
     "output_type": "execute_result"
    }
   ],
   "source": [
    "cluster_frame = pd.DataFrame(wordcloud)\n",
    "cluster_frame"
   ]
  },
  {
   "cell_type": "code",
   "execution_count": null,
   "metadata": {},
   "outputs": [],
   "source": []
  }
 ],
 "metadata": {
  "kernelspec": {
   "display_name": "Python 3",
   "language": "python",
   "name": "python3"
  },
  "language_info": {
   "codemirror_mode": {
    "name": "ipython",
    "version": 3
   },
   "file_extension": ".py",
   "mimetype": "text/x-python",
   "name": "python",
   "nbconvert_exporter": "python",
   "pygments_lexer": "ipython3",
   "version": "3.8.6"
  }
 },
 "nbformat": 4,
 "nbformat_minor": 4
}
