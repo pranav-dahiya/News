{
 "cells": [
  {
   "cell_type": "code",
   "execution_count": 1,
   "metadata": {},
   "outputs": [],
   "source": [
    "import newspaper\n",
    "import tqdm\n",
    "import pandas as pd\n",
    "from sqlalchemy import create_engine"
   ]
  },
  {
   "cell_type": "code",
   "execution_count": 4,
   "metadata": {},
   "outputs": [
    {
     "data": {
      "text/plain": [
       "['http://www.cnbc.com',\n",
       " 'http://www.mlb.com',\n",
       " 'http://www.pcmag.com',\n",
       " 'http://www.foxnews.com',\n",
       " 'http://theatlantic.com']"
      ]
     },
     "execution_count": 4,
     "metadata": {},
     "output_type": "execute_result"
    }
   ],
   "source": [
    "urls = newspaper.popular_urls()\n",
    "urls[5:10]"
   ]
  },
  {
   "cell_type": "code",
   "execution_count": 3,
   "metadata": {},
   "outputs": [
    {
     "data": {
      "text/html": [
       "<div>\n",
       "<style scoped>\n",
       "    .dataframe tbody tr th:only-of-type {\n",
       "        vertical-align: middle;\n",
       "    }\n",
       "\n",
       "    .dataframe tbody tr th {\n",
       "        vertical-align: top;\n",
       "    }\n",
       "\n",
       "    .dataframe thead th {\n",
       "        text-align: right;\n",
       "    }\n",
       "</style>\n",
       "<table border=\"1\" class=\"dataframe\">\n",
       "  <thead>\n",
       "    <tr style=\"text-align: right;\">\n",
       "      <th></th>\n",
       "      <th>url</th>\n",
       "      <th>description</th>\n",
       "      <th>name</th>\n",
       "    </tr>\n",
       "  </thead>\n",
       "  <tbody>\n",
       "    <tr>\n",
       "      <th>0</th>\n",
       "      <td>http://www.huffingtonpost.com</td>\n",
       "      <td>Read the latest headlines, news stories, and o...</td>\n",
       "      <td>huffingtonpost</td>\n",
       "    </tr>\n",
       "    <tr>\n",
       "      <th>1</th>\n",
       "      <td>http://cnn.com</td>\n",
       "      <td>Find the latest breaking news and information ...</td>\n",
       "      <td>cnn</td>\n",
       "    </tr>\n",
       "    <tr>\n",
       "      <th>2</th>\n",
       "      <td>http://www.time.com</td>\n",
       "      <td>Breaking news and analysis from TIME.com. Poli...</td>\n",
       "      <td>time</td>\n",
       "    </tr>\n",
       "    <tr>\n",
       "      <th>3</th>\n",
       "      <td>http://www.ted.com</td>\n",
       "      <td>TED Talks are influential videos from expert s...</td>\n",
       "      <td>ted</td>\n",
       "    </tr>\n",
       "    <tr>\n",
       "      <th>4</th>\n",
       "      <td>http://pandodaily.com</td>\n",
       "      <td></td>\n",
       "      <td>pandodaily</td>\n",
       "    </tr>\n",
       "    <tr>\n",
       "      <th>5</th>\n",
       "      <td>http://www.cnbc.com</td>\n",
       "      <td>CNBC International is the world leader for new...</td>\n",
       "      <td>cnbc</td>\n",
       "    </tr>\n",
       "    <tr>\n",
       "      <th>6</th>\n",
       "      <td>http://www.mlb.com</td>\n",
       "      <td>Coverage includes audio and video clips, inter...</td>\n",
       "      <td>mlb</td>\n",
       "    </tr>\n",
       "    <tr>\n",
       "      <th>7</th>\n",
       "      <td>http://www.pcmag.com</td>\n",
       "      <td>PCMag is your complete guide to computers, per...</td>\n",
       "      <td>pcmag</td>\n",
       "    </tr>\n",
       "  </tbody>\n",
       "</table>\n",
       "</div>"
      ],
      "text/plain": [
       "                             url  \\\n",
       "0  http://www.huffingtonpost.com   \n",
       "1                 http://cnn.com   \n",
       "2            http://www.time.com   \n",
       "3             http://www.ted.com   \n",
       "4          http://pandodaily.com   \n",
       "5            http://www.cnbc.com   \n",
       "6             http://www.mlb.com   \n",
       "7           http://www.pcmag.com   \n",
       "\n",
       "                                         description            name  \n",
       "0  Read the latest headlines, news stories, and o...  huffingtonpost  \n",
       "1  Find the latest breaking news and information ...             cnn  \n",
       "2  Breaking news and analysis from TIME.com. Poli...            time  \n",
       "3  TED Talks are influential videos from expert s...             ted  \n",
       "4                                                         pandodaily  \n",
       "5  CNBC International is the world leader for new...            cnbc  \n",
       "6  Coverage includes audio and video clips, inter...             mlb  \n",
       "7  PCMag is your complete guide to computers, per...           pcmag  "
      ]
     },
     "execution_count": 3,
     "metadata": {},
     "output_type": "execute_result"
    }
   ],
   "source": [
    "data = list()\n",
    "for source in sources:\n",
    "    data.append({'url': source.url, 'description': source.description, 'name': source.brand})\n",
    "source_frame = pd.DataFrame(data)\n",
    "source_frame"
   ]
  },
  {
   "cell_type": "raw",
   "metadata": {},
   "source": [
    "engine = create_engine('mysql+mysqlconnector://user:u53r_mysql@db/article_clustering')\n",
    "source_frame.to_sql('source', engine, if_exists='append', index_label='id')"
   ]
  },
  {
   "cell_type": "code",
   "execution_count": 5,
   "metadata": {},
   "outputs": [
    {
     "name": "stdout",
     "output_type": "stream",
     "text": [
      "http://www.cnbc.com\n"
     ]
    },
    {
     "name": "stderr",
     "output_type": "stream",
     "text": [
      "100%|██████████| 1409/1409 [01:46<00:00, 13.19it/s]\n"
     ]
    },
    {
     "name": "stdout",
     "output_type": "stream",
     "text": [
      "                                                  title                 date  \\\n",
      "0     European markets climb amid vaccine optimism, ...  2020-11-24 00:00:00   \n",
      "1     Coronavirus live updates: Health-care workers ...  2020-11-23 00:00:00   \n",
      "2     Dow futures rise 300 points as Trump administr...  2020-11-23 00:00:00   \n",
      "3     Five crypto bulls predict what's next for bitc...  2020-11-23 00:00:00   \n",
      "4     Oxford-AstraZeneca Covid vaccine shows an aver...  2020-11-23 00:00:00   \n",
      "...                                                 ...                  ...   \n",
      "1403  People will be allowed to work from home about...  2020-11-18 00:00:00   \n",
      "1404  I think the pharmacy names will bounce back, t...  2020-11-17 00:00:00   \n",
      "1405  Amazon sellers fined for price gouging hand sa...  2020-11-17 00:00:00   \n",
      "1406  Baidu beats estimates for Q3 revenue and it pl...  2020-11-17 00:00:00   \n",
      "1407  Baidu beats the top and bottom line, revenue t...  2020-11-16 00:00:00   \n",
      "\n",
      "                                              top_image  \\\n",
      "0     https://image.cnbcfm.com/api/v1/image/10680118...   \n",
      "1     https://image.cnbcfm.com/api/v1/image/10680111...   \n",
      "2     https://image.cnbcfm.com/api/v1/image/10679379...   \n",
      "3     https://image.cnbcfm.com/api/v1/image/10680076...   \n",
      "4     https://image.cnbcfm.com/api/v1/image/10680080...   \n",
      "...                                                 ...   \n",
      "1403  https://image.cnbcfm.com/api/v1/image/10679856...   \n",
      "1404  https://image.cnbcfm.com/api/v1/image/10679840...   \n",
      "1405  https://image.cnbcfm.com/api/v1/image/10663402...   \n",
      "1406  https://image.cnbcfm.com/api/v1/image/10679791...   \n",
      "1407  https://image.cnbcfm.com/api/v1/image/10679772...   \n",
      "\n",
      "                                                    url  \\\n",
      "0     https://www.cnbc.com/2020/11/24/european-stock...   \n",
      "1     https://www.cnbc.com/2020/11/23/coronavirus-li...   \n",
      "2     https://www.cnbc.com/2020/11/23/stock-market-f...   \n",
      "3     https://www.cnbc.com/2020/11/23/crypto-bulls-o...   \n",
      "4     https://www.cnbc.com/2020/11/23/oxford-astraze...   \n",
      "...                                                 ...   \n",
      "1403  https://www.cnbc.com/2020/11/18/working-from-h...   \n",
      "1404  https://www.cnbc.com/video/2020/11/17/i-think-...   \n",
      "1405  https://www.cnbc.com/2020/11/17/amazon-sellers...   \n",
      "1406  https://www.cnbc.com/2020/11/17/baidu-revenue-...   \n",
      "1407  https://www.cnbc.com/video/2020/11/16/baidu-be...   \n",
      "\n",
      "                                                   text  \n",
      "0     LONDON — European stocks advanced on Tuesday a...  \n",
      "1     The U.S. continues to notch record Covid-19 in...  \n",
      "2     U.S. stock futures climbed early Tuesday in re...  \n",
      "3     A visual representation of bitcoin. studioEAST...  \n",
      "4     Staff at CSL are working in the lab on Novembe...  \n",
      "...                                                 ...  \n",
      "1403  The chief executive of a German software compa...  \n",
      "1404  I think the pharmacy names will bounce back, t...  \n",
      "1405  The FDA has recently increased the list of rec...  \n",
      "1406  In this photo illustration a Baidu logo seen d...  \n",
      "1407                                                     \n",
      "\n",
      "[1408 rows x 5 columns]\n",
      "http://www.mlb.com\n"
     ]
    },
    {
     "name": "stderr",
     "output_type": "stream",
     "text": [
      "100%|██████████| 685/685 [01:56<00:00,  5.88it/s]\n"
     ]
    },
    {
     "name": "stdout",
     "output_type": "stream",
     "text": [
      "                              title       date  \\\n",
      "0  Baseball Schedule | MLB Schedule 2021-04-01   \n",
      "1  Baseball Schedule | MLB Schedule 2021-02-26   \n",
      "\n",
      "                                           top_image  \\\n",
      "0  https://www.mlbstatic.com/team-logos/share/mlb...   \n",
      "1  https://www.mlbstatic.com/team-logos/share/mlb...   \n",
      "\n",
      "                                       url text  \n",
      "0  https://www.mlb.com/schedule/2021-04-01       \n",
      "1  https://www.mlb.com/schedule/2021-02-26       \n",
      "http://www.pcmag.com\n"
     ]
    },
    {
     "name": "stderr",
     "output_type": "stream",
     "text": [
      "100%|██████████| 238/238 [00:51<00:00,  4.65it/s]"
     ]
    },
    {
     "name": "stdout",
     "output_type": "stream",
     "text": [
      "Empty DataFrame\n",
      "Columns: []\n",
      "Index: []\n"
     ]
    },
    {
     "name": "stderr",
     "output_type": "stream",
     "text": [
      "\n"
     ]
    }
   ],
   "source": [
    "for url in urls[5:8]:\n",
    "    print(url)\n",
    "    source = newspaper.build(url, memoize_articles=False)\n",
    "    newspaper.news_pool.set([source], threads_per_source=5)\n",
    "    newspaper.news_pool.join()\n",
    "    article_frame = list()\n",
    "    for article in tqdm.tqdm(source.articles):\n",
    "        article.parse()\n",
    "        if article.publish_date:\n",
    "            article_frame.append({'title': article.title, 'date': article.publish_date, 'top_image': article.top_image, 'url': article.url, 'text': article.text})\n",
    "    article_frame = pd.DataFrame(article_frame)\n",
    "    print(article_frame)\n",
    "    article_frame.to_sql('article', create_engine('mysql+mysqlconnector://user:u53r_mysql@db/article_clustering'), if_exists='append', index=False)"
   ]
  },
  {
   "cell_type": "code",
   "execution_count": null,
   "metadata": {},
   "outputs": [],
   "source": []
  }
 ],
 "metadata": {
  "kernelspec": {
   "display_name": "Python 3",
   "language": "python",
   "name": "python3"
  },
  "language_info": {
   "codemirror_mode": {
    "name": "ipython",
    "version": 3
   },
   "file_extension": ".py",
   "mimetype": "text/x-python",
   "name": "python",
   "nbconvert_exporter": "python",
   "pygments_lexer": "ipython3",
   "version": "3.8.6"
  }
 },
 "nbformat": 4,
 "nbformat_minor": 4
}
