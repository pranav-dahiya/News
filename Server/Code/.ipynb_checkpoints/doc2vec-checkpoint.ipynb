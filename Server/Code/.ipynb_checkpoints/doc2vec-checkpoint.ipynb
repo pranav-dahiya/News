{
 "cells": [
  {
   "cell_type": "code",
   "execution_count": 1,
   "metadata": {},
   "outputs": [],
   "source": [
    "import gensim.downloader as api\n",
    "from gensim.models import doc2vec"
   ]
  },
  {
   "cell_type": "code",
   "execution_count": 3,
   "metadata": {},
   "outputs": [
    {
     "data": {
      "text/plain": [
       "{'num_records': 18846,\n",
       " 'record_format': 'dict',\n",
       " 'file_size': 14483581,\n",
       " 'reader_code': 'https://github.com/RaRe-Technologies/gensim-data/releases/download/20-newsgroups/__init__.py',\n",
       " 'license': 'not found',\n",
       " 'fields': {'topic': 'name of topic (20 variant of possible values)',\n",
       "  'set': \"marker of original split (possible values 'train' and 'test')\",\n",
       "  'data': '',\n",
       "  'id': 'original id inferred from folder name'},\n",
       " 'description': 'The notorious collection of approximately 20,000 newsgroup posts, partitioned (nearly) evenly across 20 different newsgroups.',\n",
       " 'checksum': 'c92fd4f6640a86d5ba89eaad818a9891',\n",
       " 'file_name': '20-newsgroups.gz',\n",
       " 'read_more': ['http://qwone.com/~jason/20Newsgroups/'],\n",
       " 'parts': 1}"
      ]
     },
     "execution_count": 3,
     "metadata": {},
     "output_type": "execute_result"
    }
   ],
   "source": [
    "api.info('20-newsgroups')"
   ]
  },
  {
   "cell_type": "code",
   "execution_count": 4,
   "metadata": {},
   "outputs": [
    {
     "name": "stdout",
     "output_type": "stream",
     "text": [
      "[==================================================] 100.1% 13.8/13.8MB downloaded\n"
     ]
    }
   ],
   "source": [
    "dataset = api.load('20-newsgroups', return_path=True)"
   ]
  },
  {
   "cell_type": "code",
   "execution_count": 5,
   "metadata": {},
   "outputs": [],
   "source": [
    "model = doc2vec.Doc2Vec(corpus_file='/home/user/gensim-data/20-newsgroups/20-newsgroups.gz', vector_size=300, max_vocab_size=10000000, workers=8, epochs=30)"
   ]
  },
  {
   "cell_type": "code",
   "execution_count": 8,
   "metadata": {},
   "outputs": [],
   "source": [
    "model.save('doc2vec')"
   ]
  },
  {
   "cell_type": "code",
   "execution_count": null,
   "metadata": {},
   "outputs": [],
   "source": []
  }
 ],
 "metadata": {
  "kernelspec": {
   "display_name": "Python 3",
   "language": "python",
   "name": "python3"
  },
  "language_info": {
   "codemirror_mode": {
    "name": "ipython",
    "version": 3
   },
   "file_extension": ".py",
   "mimetype": "text/x-python",
   "name": "python",
   "nbconvert_exporter": "python",
   "pygments_lexer": "ipython3",
   "version": "3.8.6"
  }
 },
 "nbformat": 4,
 "nbformat_minor": 4
}
